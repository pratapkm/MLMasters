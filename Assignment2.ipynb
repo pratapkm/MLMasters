{
 "cells": [
  {
   "cell_type": "markdown",
   "metadata": {},
   "source": [
    "Task1 \n",
    "1.1\n",
    "Write a Python Program to implement your own myreduce() function which works exactly like\n",
    "Python's built-in function reduce()"
   ]
  },
  {
   "cell_type": "code",
   "execution_count": 18,
   "metadata": {},
   "outputs": [
    {
     "data": {
      "text/plain": [
       "120"
      ]
     },
     "execution_count": 18,
     "metadata": {},
     "output_type": "execute_result"
    }
   ],
   "source": [
    "def myReduce (myFunction,myList):\n",
    "    lCalc=myList[0]\n",
    "    for x in myList[1:]:\n",
    "        lCalc=myFunction(lCalc,x)\n",
    "    return lCalc\n",
    "\n",
    "myReduce((lambda x,y: x+y),[1,2,3,4,5])\n",
    "\n",
    "myReduce((lambda x,y: x*y),[1,2,3,4,5])"
   ]
  },
  {
   "cell_type": "markdown",
   "metadata": {},
   "source": [
    "Task1 \n",
    "1.2\n",
    "Write a Python program to implement your own myfilter() function which works exactly like\n",
    "Python's built-in function filter()"
   ]
  },
  {
   "cell_type": "code",
   "execution_count": 20,
   "metadata": {},
   "outputs": [
    {
     "data": {
      "text/plain": [
       "[4, 8]"
      ]
     },
     "execution_count": 20,
     "metadata": {},
     "output_type": "execute_result"
    }
   ],
   "source": [
    "def myFilter(myList):\n",
    "    result=[]\n",
    "    for x in myList :\n",
    "        if x%2 ==0:\n",
    "            result.append(x)\n",
    "    return result\n",
    "\n",
    "myFilter([1,3,5,4,7,8])\n"
   ]
  },
  {
   "cell_type": "markdown",
   "metadata": {},
   "source": [
    "Task1 \n",
    "2.\n",
    "Implement List comprehensions to produce the following lists.\n",
    "Write List comprehensions to produce the following Lists\n",
    "['A', 'C', 'A', 'D', 'G', 'I', ’L’, ‘ D’]\n",
    "['x', 'xx', 'xxx', 'xxxx', 'y', 'yy', 'yyy', 'yyyy', 'z', 'zz', 'zzz', 'zzzz']\n",
    "['x', 'y', 'z', 'xx', 'yy', 'zz', 'xx', 'yy', 'zz', 'xxxx', 'yyyy', 'zzzz']\n",
    "[[2], [3], [4], [3], [4], [5], [4], [5], [6]]\n",
    "[[2, 3, 4, 5], [3, 4, 5, 6], [4, 5, 6, 7], [5, 6, 7, 8]]\n",
    "[(1, 1), (2, 1), (3, 1), (1, 2), (2, 2), (3, 2), (1, 3), (2, 3), (3, 3)]"
   ]
  },
  {
   "cell_type": "code",
   "execution_count": 13,
   "metadata": {},
   "outputs": [
    {
     "name": "stdout",
     "output_type": "stream",
     "text": [
      "['A', 'C', 'A', 'D', 'G', 'I', 'L', 'D']\n"
     ]
    }
   ],
   "source": [
    "myList=[x for x in ('A', 'C', 'A', 'D', 'G', 'I', 'L',  'D')]\n",
    "print (myList)"
   ]
  },
  {
   "cell_type": "code",
   "execution_count": 23,
   "metadata": {},
   "outputs": [
    {
     "name": "stdout",
     "output_type": "stream",
     "text": [
      "['x', 'xx', 'xxx', 'xxxx', 'y', 'yy', 'yyy', 'yyyy', 'z', 'zz', 'zzz', 'zzzz']\n"
     ]
    }
   ],
   "source": [
    "myList = [i*j  for j in ('x','y','z') for i in range(1,5)]\n",
    "print (myList)   "
   ]
  },
  {
   "cell_type": "code",
   "execution_count": 14,
   "metadata": {},
   "outputs": [
    {
     "name": "stdout",
     "output_type": "stream",
     "text": [
      "['x', 'y', 'z', 'xx', 'yy', 'zz', 'xxx', 'yyy', 'zzz', 'xxxx', 'yyyy', 'zzzz']\n"
     ]
    }
   ],
   "source": [
    "myList = [i*j for i in range(1,5) for j in ('x','y','z')]\n",
    "print (myList) "
   ]
  },
  {
   "cell_type": "code",
   "execution_count": 26,
   "metadata": {},
   "outputs": [
    {
     "name": "stdout",
     "output_type": "stream",
     "text": [
      "[[2], [3], [4], [3], [4], [5], [4], [5], [6]]\n"
     ]
    }
   ],
   "source": [
    "myList=[[x+y] for x in range(2,5) for y in range(0,3)]\n",
    "print (myList)"
   ]
  },
  {
   "cell_type": "code",
   "execution_count": 29,
   "metadata": {},
   "outputs": [
    {
     "name": "stdout",
     "output_type": "stream",
     "text": [
      "[[2, 3, 4, 5], [3, 4, 5, 6], [4, 5, 6, 7], [5, 6, 7, 8]]\n"
     ]
    }
   ],
   "source": [
    "myList=[[x+y for x in range(2,6) ] for y in range(0,4)]\n",
    "print (myList)"
   ]
  },
  {
   "cell_type": "code",
   "execution_count": 25,
   "metadata": {},
   "outputs": [
    {
     "name": "stdout",
     "output_type": "stream",
     "text": [
      "[(1, 1), (2, 1), (3, 1), (1, 2), (2, 2), (3, 2), (1, 3), (2, 3), (3, 3)]\n"
     ]
    }
   ],
   "source": [
    "myList = [(j,i) for i in range(1,4) for j in range(1,4)]\n",
    "print(myList)"
   ]
  },
  {
   "cell_type": "markdown",
   "metadata": {},
   "source": [
    "3.\n",
    "Implement a function longestWord() that takes a list of words and returns the longest one."
   ]
  },
  {
   "cell_type": "code",
   "execution_count": 30,
   "metadata": {},
   "outputs": [
    {
     "name": "stdout",
     "output_type": "stream",
     "text": [
      "Malkangiri\n"
     ]
    }
   ],
   "source": [
    "def longestWord(myLine):\n",
    "    myList=myLine.split()\n",
    "#     print (myList)\n",
    "#     print (len(myList))\n",
    "#     print(len(myList[0]))\n",
    "    lWord=\"\"\n",
    "    wLen=0\n",
    "    for iWord in myList:\n",
    "        if len(iWord) > wLen:\n",
    "            lWord = iWord\n",
    "            wLen=len(iWord)\n",
    "#        else:\n",
    "    print(lWord)\n",
    "    \n",
    "longestWord(\"My Name is pratap and I was born in Malkangiri\")"
   ]
  },
  {
   "cell_type": "markdown",
   "metadata": {},
   "source": [
    "Task 2:\n",
    "1.1\n",
    "Write a Python Program(with class concepts) to find the area of the triangle using the below\n",
    "formula.\n",
    "area = (s*(s-a)*(s-b)*(s-c)) ** 0.5\n",
    "Function to take the length of the sides of triangle from user should be defined in the parent\n",
    "class and function to calculate the area should be defined in subclass."
   ]
  },
  {
   "cell_type": "code",
   "execution_count": 31,
   "metadata": {},
   "outputs": [
    {
     "name": "stdout",
     "output_type": "stream",
     "text": [
      "Perimeter of the Triangle is :6.0\n",
      "Area of the Triangle is :6.0\n"
     ]
    }
   ],
   "source": [
    "class triangle:    \n",
    "    def __init__(self, sideA,sideB,sideC):\n",
    "        self.sideA =sideA\n",
    "        self.sideB =sideB\n",
    "        self.sideC =sideC\n",
    "        \n",
    "    def perimeter(self):\n",
    "         perimeter=(self.sideA+self.sideB+self.sideC)/2\n",
    "         return perimeter\n",
    "\n",
    "\n",
    "class myTriangle(triangle):\n",
    "    def __init__(self,sideA,sideB,sideC):\n",
    "        super().__init__(sideA,sideB,sideC)\n",
    "        \n",
    "    def area(self):\n",
    "#         perimeter=(self.sideA+self.sideB+self.sideC)/2\n",
    "         perimeter=triangle.perimeter(self)\n",
    "#         print(triangle.perimeter(self))\n",
    "         area=(perimeter*(perimeter-self.sideA)*(perimeter-self.sideB)*(perimeter-self.sideC))**0.5\n",
    "         return area\n",
    "    \n",
    "\n",
    "        \n",
    "x=myTriangle (3,4,5)\n",
    "\n",
    "print(\"Perimeter of the Triangle is :\"+str(x.perimeter()))\n",
    "print(\"Area of the Triangle is :\"+str(x.area()))\n",
    "\n"
   ]
  },
  {
   "cell_type": "markdown",
   "metadata": {},
   "source": [
    "Task 2:\n",
    "1.2\n",
    "Write a function filter_long_words() that takes a list of words and an integer n and returns the list\n",
    "of words that are longer than n.\n"
   ]
  },
  {
   "cell_type": "code",
   "execution_count": 33,
   "metadata": {},
   "outputs": [
    {
     "name": "stdout",
     "output_type": "stream",
     "text": [
      "['Name', 'pratap', 'born', 'Malkangiri']\n"
     ]
    }
   ],
   "source": [
    "def filter_long_words(myLine,myLength):\n",
    "    myList=myLine.split()\n",
    "    myLongList=[]\n",
    "    lWord=\"\"\n",
    "    wLen=0\n",
    "    for iWord in myList:\n",
    "        if len(iWord) > myLength:\n",
    "            myLongList.append(iWord)\n",
    "    print(myLongList)\n",
    "    \n",
    "filter_long_words(\"My Name is pratap and I was born in Malkangiri\",3)"
   ]
  },
  {
   "cell_type": "markdown",
   "metadata": {},
   "source": [
    "Task 2:\n",
    "2.1\n",
    "Write a Python program using function concept that maps list of words into a list of integers\n",
    "representing the lengths of the corresponding words .\n",
    "Hint: If a list [ ab,cde,erty] is passed on to the python function output should come as [2,3,4]\n",
    "Here 2,3 and 4 are the lengths of the words in the list."
   ]
  },
  {
   "cell_type": "code",
   "execution_count": 34,
   "metadata": {},
   "outputs": [
    {
     "name": "stdout",
     "output_type": "stream",
     "text": [
      "[3, 4, 2, 6, 3, 1, 2, 5, 2, 2, 4]\n"
     ]
    }
   ],
   "source": [
    "def length_words(myLine):\n",
    "    myList=myLine.split()\n",
    "    myLengthList=[]\n",
    "    for iWord in myList:        \n",
    "        myLengthList.append(len(iWord))\n",
    "    print(myLengthList)\n",
    "    \n",
    "length_words(\"Hi. This is Pratap and I am happy to be here\")"
   ]
  },
  {
   "cell_type": "markdown",
   "metadata": {},
   "source": [
    "Task 2:\n",
    "2.2\n",
    "Write a Python function which takes a character (i.e. a string of length 1) and returns True if it is\n",
    "a vowel, False otherwise."
   ]
  },
  {
   "cell_type": "code",
   "execution_count": 35,
   "metadata": {},
   "outputs": [
    {
     "data": {
      "text/plain": [
       "False"
      ]
     },
     "execution_count": 35,
     "metadata": {},
     "output_type": "execute_result"
    }
   ],
   "source": [
    "def check_vowel(myChar):\n",
    "    vowelList=['a','e','i','o','u','A','E','I','O','U']   \n",
    "    for iAlpha in vowelList:        \n",
    "        if myChar == iAlpha :\n",
    "            return True\n",
    "            break                \n",
    "    return False\n",
    "    \n",
    "check_vowel(\"H\")"
   ]
  },
  {
   "cell_type": "code",
   "execution_count": null,
   "metadata": {},
   "outputs": [],
   "source": []
  }
 ],
 "metadata": {
  "kernelspec": {
   "display_name": "Python 3",
   "language": "python",
   "name": "python3"
  },
  "language_info": {
   "codemirror_mode": {
    "name": "ipython",
    "version": 3
   },
   "file_extension": ".py",
   "mimetype": "text/x-python",
   "name": "python",
   "nbconvert_exporter": "python",
   "pygments_lexer": "ipython3",
   "version": "3.7.0"
  }
 },
 "nbformat": 4,
 "nbformat_minor": 2
}
